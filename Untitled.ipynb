{
 "cells": [
  {
   "cell_type": "code",
   "execution_count": 101,
   "metadata": {},
   "outputs": [],
   "source": [
    "from numpy import array, matmul"
   ]
  },
  {
   "cell_type": "code",
   "execution_count": 102,
   "metadata": {},
   "outputs": [],
   "source": [
    "digits_of_pi = 6\n",
    "# I recommend you keep this number greater than 0 (because there is no error checking) \n",
    "# and less than 7 (because it could take forever to calculate. \n",
    "# The while loop has exponential time complexity O(10^(digits_of_pi)) - this is easy to verify but nontrivial to prove)"
   ]
  },
  {
   "cell_type": "code",
   "execution_count": 103,
   "metadata": {},
   "outputs": [],
   "source": [
    "v1, v2, m1, m2 = 0, -1, 1, 100**(digits_of_pi-1)"
   ]
  },
  {
   "cell_type": "code",
   "execution_count": 104,
   "metadata": {},
   "outputs": [],
   "source": [
    "A = array([[(m1-m2),(2*m2)],[(2*m1),(m2-m1)]])/(m1+m2)\n",
    "B = array([[-1,0],[0,1]])"
   ]
  },
  {
   "cell_type": "code",
   "execution_count": 105,
   "metadata": {},
   "outputs": [],
   "source": [
    "collisions = 0"
   ]
  },
  {
   "cell_type": "code",
   "execution_count": 106,
   "metadata": {},
   "outputs": [],
   "source": [
    "while not((v1>=0)&(v2>=0)&(v2>=v1)):\n",
    "    v = array([[v1],[v2]])\n",
    "    if (collisions%2)<1:\n",
    "        v = matmul(A,v)\n",
    "    else:\n",
    "        v = matmul(B,v)\n",
    "    v1, v2 = float(v[0]), float(v[1])\n",
    "    collisions += 1"
   ]
  },
  {
   "cell_type": "code",
   "execution_count": 108,
   "metadata": {},
   "outputs": [
    {
     "name": "stdout",
     "output_type": "stream",
     "text": [
      "314159\n"
     ]
    }
   ],
   "source": [
    "print(collisions)"
   ]
  },
  {
   "cell_type": "code",
   "execution_count": null,
   "metadata": {},
   "outputs": [],
   "source": []
  }
 ],
 "metadata": {
  "kernelspec": {
   "display_name": "Python 3",
   "language": "python",
   "name": "python3"
  },
  "language_info": {
   "codemirror_mode": {
    "name": "ipython",
    "version": 3
   },
   "file_extension": ".py",
   "mimetype": "text/x-python",
   "name": "python",
   "nbconvert_exporter": "python",
   "pygments_lexer": "ipython3",
   "version": "3.7.1"
  }
 },
 "nbformat": 4,
 "nbformat_minor": 2
}
