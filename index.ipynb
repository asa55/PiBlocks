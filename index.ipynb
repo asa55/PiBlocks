{
 "cells": [
  {
   "cell_type": "markdown",
   "metadata": {},
   "source": [
    "# PiBlocks shows a fun way to compute digits of $\\pi$ using collisions"
   ]
  },
  {
   "cell_type": "markdown",
   "metadata": {},
   "source": [
    "## If you haven't already seen the video..."
   ]
  },
  {
   "cell_type": "markdown",
   "metadata": {},
   "source": [
    "Start by checking out 3Blue1Brown's video [The Most Unexpected Answer to a Counting Puzzle](https://www.youtube.com/watch?v=HEfHFsfGXjs)"
   ]
  },
  {
   "cell_type": "markdown",
   "metadata": {},
   "source": [
    "## But wait, there's more!"
   ]
  },
  {
   "cell_type": "markdown",
   "metadata": {},
   "source": [
    "3Blue1Brown has a few follow-up videos on his channel showing solutions to the problem."
   ]
  },
  {
   "cell_type": "markdown",
   "metadata": {},
   "source": [
    "There are many ways to prove that the number of elastic collisions between two masses on a frictionless plane given the ratio of the masses is $\\frac{m_2}{m_1}=100^{k-1}, k\\in {\\mathbb{N}}_1$"
   ]
  },
  {
   "cell_type": "markdown",
   "metadata": {},
   "source": [
    "## Let's simulate this first (and prove it with math later)"
   ]
  },
  {
   "cell_type": "markdown",
   "metadata": {},
   "source": [
    "To make this simulation as simple as possible, there is no time or position component needed. **This means we only need to model the collision dynamics! (You'll see it works in the next section).** This is justifiable because the frictionless assumption means that nothing interesting will happen between collisions. Also, even if the blocks are super close to one another, there is still an infinite precision in distance between them and collisions are perfectly elactic (so no matter how close they get, if you zoom in close enough you'll see that even super fast collisions in close proximity have the same properties as slower ones from farther distances)."
   ]
  },
  {
   "cell_type": "markdown",
   "metadata": {},
   "source": [
    "### Word to the wise - this simulation has exponential time complexity $O(10^k)$ (the number of times the loop runs increases by a factor of $10$ each time you increment $k$ by $1$). Keep $k$ between $1$ and $7$ so as not to inadvertently break anything. I did not add code to protect against this."
   ]
  },
  {
   "cell_type": "markdown",
   "metadata": {},
   "source": [
    "**How to use this Notebook:** If you're new to iPython, Jupyter Notebooks, and Binder, a few comments may be helpful here... The file you're looking at was written as a combination of Python, Markdown, LaTeX, and is saved as something called an iPython Notebook (.ipynb). If you're seeing this page, you followed a link I gave you and clicked on the associated .ipynb. The Notebook format is the brainchild of Project Jupyter, and the Binder project lets you view Notebooks interactively using a tiny chunk of free server space you had allocated to you when you opened this file. Binder is what makes this experience interactive (thank you Binder!). As you follow along, you'll see results pre-populated from the last time I ran this before I posted it online. You can run your own experiments by clicking on each line of code (one by one, starting from the top), then clicking the Run button near the top of the page. There are some really nice people out there paying for our ability to use this server space for free, so please be kind and close this page as soon as you're not actively looking at it (this frees up the resources to other Binder users) - you can always come back and run this again! The open source community thanks you =)"
   ]
  },
  {
   "cell_type": "markdown",
   "metadata": {},
   "source": [
    "***(Step 1)*** First, we'll need a few tools from numpy."
   ]
  },
  {
   "cell_type": "code",
   "execution_count": 1,
   "metadata": {},
   "outputs": [],
   "source": [
    "from numpy import array, matmul"
   ]
  },
  {
   "cell_type": "markdown",
   "metadata": {},
   "source": [
    "**(Step 2)** Next, we want to select a $k$ for this experiment (which is identical to specifying how many digits of $\\pi$ we want to calculate)"
   ]
  },
  {
   "cell_type": "code",
   "execution_count": 2,
   "metadata": {},
   "outputs": [],
   "source": [
    "k = 3"
   ]
  },
  {
   "cell_type": "markdown",
   "metadata": {},
   "source": [
    "**(Step 3)** Now let's set the masses and velocities $m_1, m_2, v_1, v_2$. $m_1$ is a unit mass, $m_2$ is then $100^{k-1}$ times larger than the unit mass. Mass 1 is the one that lies between Mass 2 and the wall, and its initial velocity is $0$. The wall is the leftmost object (just based on the way I chose to set up this problem), and leftward motion corresponds to negative velocity while rightward motion means positive velocity. Thus, Mass 2 is initialized with unit negative velocity (but you can change this to any negative velocity without impacting the final result (meaning total number of collisions))."
   ]
  },
  {
   "cell_type": "code",
   "execution_count": 3,
   "metadata": {},
   "outputs": [],
   "source": [
    "v1, v2, m1, m2 = 0, -1, 1, 100**(k-1)"
   ]
  },
  {
   "cell_type": "markdown",
   "metadata": {},
   "source": [
    "**(Step 4)** Now we're going to work from the fundamental [physics modeling our elastic collisions](https://en.wikipedia.org/wiki/Elastic_collision#One-dimensional_Newtonian). You'll find these equations on Wikipedia. Let's reformulate these equations using matrices. The A matrix models the collisions, and the B matrix corresponds to Mass 1 bouncing off the wall (since it simply reflects the velocity of Mass 1 from negative to positive)."
   ]
  },
  {
   "cell_type": "markdown",
   "metadata": {},
   "source": [
    "$A = \\begin{bmatrix}\\frac{m_1-m_2}{m_1+m_2}& \\frac{2 m_2}{m_1+m_2}\\\\ \\frac{2 m_1}{m_1+m_2}&\\frac{m_2-m_1}{m_1+m_2}\\end{bmatrix},  B = \\begin{bmatrix}-1&0\\\\ 0&1\\end{bmatrix}, v = \\begin{bmatrix}v_1\\\\v_2\\end{bmatrix}, u = \\begin{bmatrix}u_1\\\\u_2\\end{bmatrix}$"
   ]
  },
  {
   "cell_type": "code",
   "execution_count": 4,
   "metadata": {},
   "outputs": [],
   "source": [
    "A = array([[(m1-m2),(2*m2)],[(2*m1),(m2-m1)]])/(m1+m2)\n",
    "B = array([[-1,0],[0,1]])"
   ]
  },
  {
   "cell_type": "markdown",
   "metadata": {},
   "source": [
    "**(Step 5)** There are no collisions at the outset of this experiment, so let's initialize the collisions counter to $0$."
   ]
  },
  {
   "cell_type": "code",
   "execution_count": 5,
   "metadata": {},
   "outputs": [],
   "source": [
    "collisions = 0"
   ]
  },
  {
   "cell_type": "markdown",
   "metadata": {},
   "source": [
    "**(Step 6)** Here is the meat of the simulation. What you'll see is a while loop, and the loop will keep running over and over again (incrementing the collisions counter by $+1$ each time) until the \"exit conditions\" are reached. The exit conditions simply state that Mass 1 and Mass 2 are both moving away from the wall, and Mass 2 must be moving at least as fast as Mass 1 so the masses themselves will never collide with each other or with the wall again. Additionally, because Mass 1 has an initial velocity of 0, and Mass 2 has some initial negative velocity, the first collision will always happen between Mass 2 and Mass 1 (so the $A$ matrix models the result of this collision as $v = Au$). You'll notice from the problem statement that Mass 1 and Mass 2 will never collide twice back-to-back. Because of this, after a Mass 1 Mass 2 collision, there will either be a collision with the wall or no collisions will ever happen again. Similarly, when Mass 1 will never collide with the wall twice in a row. After Mass 1 hits the wall (modeled as $v = Bu$), it will either collide with Mass 2 or no collisions will happen ever again. So we get this toggling action between the $A$ matrix and $B$ matrix. Very conveniently, the $A$ matrix models all odd numbered collisions, and the $B$ matrix models all even numbered collisions. The code selects this by using the modulo operation (%) which gives the remainder of an integer division (in our case, we mod by $2$, giving either $0$ or $1$ as the result which tells us whether we should model the next collision using the $A$ or $B$ matrix)."
   ]
  },
  {
   "cell_type": "markdown",
   "metadata": {},
   "source": [
    "A few notes on the implementation: in Python, the first element of an array has index $0$. We originally implicitly defined $v_1, v_2$ as \"number\" types, which are scalars. In order to use our $A$ and $B$ matrices, we use the $array()$ function so that we can leverage matrix multiplication functionality with $matmul()$. After this, the results $v[0]$ and $v[1]$ have \"array\" types, but we want them to be scalars (so as not to break the code - the while loop expects scalar \"number\" types when evaluating the exit conditions). The $float()$ operator does something called \"casting\" where the array type is changed to a scalar \"float\" type. If you're unfamiliar with casting, the intuition behind it is fairly straightforward. A quick google search should clear this up if you're not comfortable with what's going on in the code below."
   ]
  },
  {
   "cell_type": "code",
   "execution_count": 6,
   "metadata": {},
   "outputs": [],
   "source": [
    "while not((v1>=0)&(v2>=0)&(v2>=v1)):\n",
    "    v = array([[v1],[v2]])\n",
    "    if (collisions%2)<1:\n",
    "        v = matmul(A,v)\n",
    "    else:\n",
    "        v = matmul(B,v)\n",
    "    v1, v2 = float(v[0]), float(v[1])\n",
    "    collisions += 1"
   ]
  },
  {
   "cell_type": "markdown",
   "metadata": {},
   "source": [
    "**(Step 7)** Now that the simulation is done, we just need to print the result. As expected, we get $k$ digits of pi. More specifically, $\\pi \\approx \\frac{collisions}{10^{(k-1)}}$"
   ]
  },
  {
   "cell_type": "code",
   "execution_count": 7,
   "metadata": {},
   "outputs": [
    {
     "name": "stdout",
     "output_type": "stream",
     "text": [
      "314\n"
     ]
    }
   ],
   "source": [
    "print(collisions)"
   ]
  },
  {
   "cell_type": "markdown",
   "metadata": {},
   "source": [
    "### We did it! The above line of code shows that digits of $\\pi$ fall out of our simulation, which agrees with our expectations."
   ]
  },
  {
   "cell_type": "markdown",
   "metadata": {},
   "source": [
    "#### That can be the end of it - if you want. We just verified the theoretical result. However... we didn't *prove (analytically)* it is always true. Fellow math nerds, please stay tuned."
   ]
  },
  {
   "cell_type": "markdown",
   "metadata": {},
   "source": [
    "If you're anything like my friend and I, you might feel like you've come away from this simulation with more questions than answers. Let's take a few moments to gain some insight behind what just happened..."
   ]
  },
  {
   "cell_type": "markdown",
   "metadata": {},
   "source": [
    "For the sake of getting this code online ASAP (it's a work night for me - I'll make this prettier, I promise!), I left a bunch of comments in the code.\n",
    "\n",
    "The basic idea is that we want to inspect the Kinetic Energy (K.E.) equation $\\frac{1}{2} m_1 v_1^2 + \\frac{1}{2} m_2 v_2^2 = const.$\n",
    "\n",
    "The K.E. equation implicitly defines an ellipse, but if you make the substitution $v_1 = \\frac{(m_1)}{(2*C)}\\tilde{v_1}$ $v_2 = \\frac{(m_2)}{(2*C)}\\tilde{v_2}$, something interesting happens.\n",
    "\n",
    "This choice implies $\\tilde{v_1}^2 + \\tilde{v_2}^2 = 1$, which is the equation for the unit circle! *(foreshadowing intended)*"
   ]
  },
  {
   "cell_type": "markdown",
   "metadata": {},
   "source": [
    "#### The following code block should be run once (or again to reset the plots thereafter)."
   ]
  },
  {
   "cell_type": "markdown",
   "metadata": {},
   "source": [
    "This will generate and display the plots corresponding to:\n",
    "\n",
    "Our ellipse (on the left):\n",
    "$\\frac{1}{2} m_1 v_1^2 + \\frac{1}{2} m_2 v_2^2 = const.$\n",
    "\n",
    "and our unit circle (on the right):\n",
    "$\\tilde{v_1}^2 + \\tilde{v_2}^2 = 1$\n",
    "\n",
    "(run this code block twice if you don't see any plots the first time)"
   ]
  },
  {
   "cell_type": "code",
   "execution_count": 67,
   "metadata": {},
   "outputs": [
    {
     "data": {
      "text/plain": [
       "(-1.09999999989, 1.09999999989, -1.099982834359373, 1.099982834359373)"
      ]
     },
     "execution_count": 67,
     "metadata": {},
     "output_type": "execute_result"
    },
    {
     "data": {
      "image/png": "[encoded data removed]",
      "text/plain": [
       "<Figure size 648x576 with 2 Axes>"
      ]
     },
     "metadata": {
      "needs_background": "light"
     },
     "output_type": "display_data"
    }
   ],
   "source": [
    "from numpy import sqrt, linspace\n",
    "import matplotlib.pyplot as plt\n",
    "\n",
    "collisions = 0 # resetting this prior to the next code block\n",
    "\n",
    "\"\"\"\n",
    "Let's re-define our variables from above. Run this code block one time. \n",
    "Any code below this block can be \"reset\" by running this line of code again.\n",
    "\"\"\"\n",
    "k = 2\n",
    "v1, v2, m1, m2 = 0, -1, 1, 100**(k-1)\n",
    "A = array([[(m1-m2),(2*m2)],[(2*m1),(m2-m1)]])/(m1+m2)\n",
    "B = array([[-1,0],[0,1]])\n",
    "\n",
    "\"\"\"\n",
    "The epsilon definition below is just a band-aid against a numeric error I was getting during plotting.\n",
    "The exact issue is that linspace almost negligibly spills outside of the bounds we define,\n",
    "but this ultimately leads to the innards of a sqrt() function to become slightly negative,\n",
    "which results in the emergence of complex numbers, which doesn't play nicely with the plot the way we intend to use it.\n",
    "Don't believe me? set epsilon=0 and k=2. \n",
    "This should plot a closed conic section but you'll see gaps near each side (and that python throws a warning message).\n",
    "\"\"\"\n",
    "epsilon = 10**(-10)\n",
    "\n",
    "\"\"\"\n",
    "The total kinetic energy of the system remains constant. This means K.E. = const., which we calculate on the next line of code.\n",
    "This equation implicitly defines an ellipse, which will be plotted (below on the left) when you run this code block.\n",
    "\"\"\"\n",
    "C = (1/2)*(m1)*(v1)**2 + (1/2)*(v2)**2\n",
    "v2_domain = sqrt(2*C/m2)*linspace(-1 + epsilon, 1 - epsilon, 180-1)\n",
    "fig, axs = plt.subplots(1, 2, figsize=(9, 8))\n",
    "axs[0].plot(v2_domain, sqrt(m2/m1)*sqrt(2*C/m2 - (v2_domain)**2), 'b', )\n",
    "axs[0].plot(v2_domain, -sqrt(m2/m1)*sqrt(2*C/m2 - (v2_domain)**2), 'b', )\n",
    "axs[0].set_title('v2, v1 plane', fontsize=10)\n",
    "axs[0].axis('equal')\n",
    "\n",
    "\n",
    "\"\"\"\n",
    "We'll define a new coordinate system that maps the ellipse to a unit circle.\n",
    "1 = (m1/(2*C))*v1**2 + (m2/(2C))*v2**2 = v1_tilde**2 + v2_tilde**2\n",
    "\"\"\"\n",
    "v2_tilde_domain = linspace(-1 + epsilon, 1 - epsilon, 180)\n",
    "axs[1].plot(v2_tilde_domain, sqrt(1 - (v2_tilde_domain)**2), 'b', )\n",
    "axs[1].plot(v2_tilde_domain, -sqrt(1 - (v2_tilde_domain)**2), 'b', )\n",
    "axs[1].set_title('v2_tilde, v1_tilde plane', fontsize=10)\n",
    "axs[1].axis('equal')"
   ]
  },
  {
   "cell_type": "markdown",
   "metadata": {},
   "source": [
    "### Okay maybe circles and ellipses don't make it obvious where we're headed, but in the next code block things get much more interesting!"
   ]
  },
  {
   "cell_type": "markdown",
   "metadata": {},
   "source": [
    "We have our simulation code modified slightly and copied below. Let's simulate each collision one-by-one and see what that looks like in $(v_2, v_1)$ (or equivalently $(\\tilde{v_2}, \\tilde{v_1})$) space"
   ]
  },
  {
   "cell_type": "markdown",
   "metadata": {},
   "source": [
    "The collision model takes an ordered pair $(u_1, u_2)$ as an input and returns $(v_1, v_2)$ as an output. It makes sense to get an eye on how these points update from one collision to the next. If you run the below code block multiple times, you can watch the simulation evolve one collision at a time."
   ]
  },
  {
   "cell_type": "code",
   "execution_count": 76,
   "metadata": {},
   "outputs": [
    {
     "data": {
      "image/png": "[encoded data removed]",
      "text/plain": [
       "<Figure size 648x576 with 2 Axes>"
      ]
     },
     "execution_count": 76,
     "metadata": {},
     "output_type": "execute_result"
    }
   ],
   "source": [
    "\"\"\"\n",
    "Run this block multiple times to see it in action.\n",
    "\"\"\"\n",
    "\n",
    "if not((v1>=0)&(v2>=0)&(v2>=v1)):\n",
    "    v = array([[v1],[v2]])\n",
    "    if (collisions%2)<1:\n",
    "        v = matmul(A,v)\n",
    "    else:\n",
    "        v = matmul(B,v)\n",
    "    axs[0].plot(array([v2, float(v[1])])*sqrt(m1/m2)/(2*C),array([v1, float(v[0])])*sqrt(m1/m2)/(2*C), 'ro--', markersize='11')\n",
    "    axs[1].plot(array([v2, float(v[1])]),array([v1, float(v[0])])*sqrt(m1/m2), 'ro--', markersize='11')\n",
    "    v1, v2 = float(v[0]), float(v[1])\n",
    "    collisions += 1\n",
    "fig"
   ]
  },
  {
   "cell_type": "code",
   "execution_count": 78,
   "metadata": {},
   "outputs": [
    {
     "name": "stdout",
     "output_type": "stream",
     "text": [
      "The current number of collisions = 9. We set k = 2, \n",
      "so we expect the number of collisions to stop increasing upon reaching the first 2 digits of pi.\n"
     ]
    }
   ],
   "source": [
    "print(\"The current number of collisions = \" + str(collisions) + \". We set k = \" + str(k) + \\\n",
    "      \", \\nso we expect the number of collisions to stop increasing upon reaching the first \" + str(k) + \" digits of pi.\")"
   ]
  },
  {
   "cell_type": "markdown",
   "metadata": {},
   "source": [
    "#### If you look closely at the normalized (circular) plot on the right, you'll notice that the slope of every {odd, even} line is identical. If you look even more closely you might notice that the distance between adjacent dots is constant, and if you look really, really closely, you'll realize that means adjacent dots sweep the same angular distance with respect to the origin. All of these details are super important in the analytical proof for our \"pi from collisions problem\". A TODO item for me will be to add code that shows the things I just said can be verified numerically. (This is an easy update). Other than that, my friend and I will refer you to our written mathematical proof. Keep an eye out for a link to the document (most likely via a shared link to one of our DropBox accounts). In the meanwhile, 3Blue1Brown has a few proofs that align closely with the plots we just created. His YouTube videos are always well worth the watch!"
   ]
  },
  {
   "cell_type": "markdown",
   "metadata": {},
   "source": [
    "## There you have it! This Notebook was brought to you by Alex Augenstein and Rich Sofranko. Rich is finishing the write-up on our mathematical proof. I'll either re-create the results below or link to it in a public DropBox (or similar). Thanks for reading!"
   ]
  }
 ],
 "metadata": {
  "kernelspec": {
   "display_name": "Python 3",
   "language": "python",
   "name": "python3"
  },
  "language_info": {
   "codemirror_mode": {
    "name": "ipython",
    "version": 3
   },
   "file_extension": ".py",
   "mimetype": "text/x-python",
   "name": "python",
   "nbconvert_exporter": "python",
   "pygments_lexer": "ipython3",
   "version": "3.7.1"
  }
 },
 "nbformat": 4,
 "nbformat_minor": 2
}
